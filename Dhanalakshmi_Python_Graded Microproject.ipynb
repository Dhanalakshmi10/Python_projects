{
 "cells": [
  {
   "cell_type": "markdown",
   "id": "76cc370b",
   "metadata": {},
   "source": [
    "# Dhanalakshmi_Python_Graded Microproject"
   ]
  },
  {
   "cell_type": "markdown",
   "id": "01062dff",
   "metadata": {},
   "source": [
    "### TERROR.CSV"
   ]
  },
  {
   "cell_type": "code",
   "execution_count": 1,
   "id": "d2174c3d",
   "metadata": {},
   "outputs": [],
   "source": [
    "import os\n",
    "import pandas as pd"
   ]
  },
  {
   "cell_type": "code",
   "execution_count": 3,
   "id": "a19d895b",
   "metadata": {},
   "outputs": [],
   "source": [
    "os.chdir(\"C:\\\\Users\\Parth\\Desktop\\Python MIT\\Python - Graded Microproject\")"
   ]
  },
  {
   "cell_type": "code",
   "execution_count": 88,
   "id": "e6549e1f",
   "metadata": {},
   "outputs": [],
   "source": [
    "df=pd.read_csv(\"terror_gtd.csv\",encoding=\"latin-1\")"
   ]
  },
  {
   "cell_type": "code",
   "execution_count": 59,
   "id": "2e70a933",
   "metadata": {},
   "outputs": [
    {
     "data": {
      "text/html": [
       "<div>\n",
       "<style scoped>\n",
       "    .dataframe tbody tr th:only-of-type {\n",
       "        vertical-align: middle;\n",
       "    }\n",
       "\n",
       "    .dataframe tbody tr th {\n",
       "        vertical-align: top;\n",
       "    }\n",
       "\n",
       "    .dataframe thead th {\n",
       "        text-align: right;\n",
       "    }\n",
       "</style>\n",
       "<table border=\"1\" class=\"dataframe\">\n",
       "  <thead>\n",
       "    <tr style=\"text-align: right;\">\n",
       "      <th></th>\n",
       "      <th>eventid</th>\n",
       "      <th>iyear</th>\n",
       "      <th>imonth</th>\n",
       "      <th>iday</th>\n",
       "      <th>country_txt</th>\n",
       "      <th>region_txt</th>\n",
       "      <th>provstate</th>\n",
       "      <th>city</th>\n",
       "      <th>location</th>\n",
       "      <th>summary</th>\n",
       "      <th>success</th>\n",
       "      <th>suicide</th>\n",
       "      <th>nkill</th>\n",
       "      <th>nwound</th>\n",
       "    </tr>\n",
       "  </thead>\n",
       "  <tbody>\n",
       "    <tr>\n",
       "      <th>0</th>\n",
       "      <td>1.970000e+11</td>\n",
       "      <td>1970</td>\n",
       "      <td>0</td>\n",
       "      <td>0</td>\n",
       "      <td>Dominican Republic</td>\n",
       "      <td>Central America &amp; Caribbean</td>\n",
       "      <td>NaN</td>\n",
       "      <td>Santo Domingo</td>\n",
       "      <td>NaN</td>\n",
       "      <td>NaN</td>\n",
       "      <td>1</td>\n",
       "      <td>0</td>\n",
       "      <td>1.0</td>\n",
       "      <td>0.0</td>\n",
       "    </tr>\n",
       "    <tr>\n",
       "      <th>1</th>\n",
       "      <td>1.970000e+11</td>\n",
       "      <td>1970</td>\n",
       "      <td>0</td>\n",
       "      <td>0</td>\n",
       "      <td>Mexico</td>\n",
       "      <td>North America</td>\n",
       "      <td>NaN</td>\n",
       "      <td>Mexico city</td>\n",
       "      <td>NaN</td>\n",
       "      <td>NaN</td>\n",
       "      <td>1</td>\n",
       "      <td>0</td>\n",
       "      <td>0.0</td>\n",
       "      <td>0.0</td>\n",
       "    </tr>\n",
       "    <tr>\n",
       "      <th>2</th>\n",
       "      <td>1.970000e+11</td>\n",
       "      <td>1970</td>\n",
       "      <td>1</td>\n",
       "      <td>0</td>\n",
       "      <td>Philippines</td>\n",
       "      <td>Southeast Asia</td>\n",
       "      <td>Tarlac</td>\n",
       "      <td>Unknown</td>\n",
       "      <td>NaN</td>\n",
       "      <td>NaN</td>\n",
       "      <td>1</td>\n",
       "      <td>0</td>\n",
       "      <td>1.0</td>\n",
       "      <td>0.0</td>\n",
       "    </tr>\n",
       "    <tr>\n",
       "      <th>3</th>\n",
       "      <td>1.970000e+11</td>\n",
       "      <td>1970</td>\n",
       "      <td>1</td>\n",
       "      <td>0</td>\n",
       "      <td>Greece</td>\n",
       "      <td>Western Europe</td>\n",
       "      <td>Attica</td>\n",
       "      <td>Athens</td>\n",
       "      <td>NaN</td>\n",
       "      <td>NaN</td>\n",
       "      <td>1</td>\n",
       "      <td>0</td>\n",
       "      <td>NaN</td>\n",
       "      <td>NaN</td>\n",
       "    </tr>\n",
       "    <tr>\n",
       "      <th>4</th>\n",
       "      <td>1.970000e+11</td>\n",
       "      <td>1970</td>\n",
       "      <td>1</td>\n",
       "      <td>0</td>\n",
       "      <td>Japan</td>\n",
       "      <td>East Asia</td>\n",
       "      <td>NaN</td>\n",
       "      <td>Fukouka</td>\n",
       "      <td>NaN</td>\n",
       "      <td>NaN</td>\n",
       "      <td>1</td>\n",
       "      <td>0</td>\n",
       "      <td>NaN</td>\n",
       "      <td>NaN</td>\n",
       "    </tr>\n",
       "    <tr>\n",
       "      <th>5</th>\n",
       "      <td>1.970000e+11</td>\n",
       "      <td>1970</td>\n",
       "      <td>1</td>\n",
       "      <td>1</td>\n",
       "      <td>United States</td>\n",
       "      <td>North America</td>\n",
       "      <td>Illinois</td>\n",
       "      <td>Cairo</td>\n",
       "      <td>NaN</td>\n",
       "      <td>1/1/1970: Unknown African American assailants ...</td>\n",
       "      <td>1</td>\n",
       "      <td>0</td>\n",
       "      <td>0.0</td>\n",
       "      <td>0.0</td>\n",
       "    </tr>\n",
       "    <tr>\n",
       "      <th>6</th>\n",
       "      <td>1.970000e+11</td>\n",
       "      <td>1970</td>\n",
       "      <td>1</td>\n",
       "      <td>2</td>\n",
       "      <td>Uruguay</td>\n",
       "      <td>South America</td>\n",
       "      <td>Montevideo</td>\n",
       "      <td>Montevideo</td>\n",
       "      <td>NaN</td>\n",
       "      <td>NaN</td>\n",
       "      <td>0</td>\n",
       "      <td>0</td>\n",
       "      <td>0.0</td>\n",
       "      <td>0.0</td>\n",
       "    </tr>\n",
       "    <tr>\n",
       "      <th>7</th>\n",
       "      <td>1.970000e+11</td>\n",
       "      <td>1970</td>\n",
       "      <td>1</td>\n",
       "      <td>2</td>\n",
       "      <td>United States</td>\n",
       "      <td>North America</td>\n",
       "      <td>California</td>\n",
       "      <td>Oakland</td>\n",
       "      <td>Edes Substation</td>\n",
       "      <td>1/2/1970: Unknown perpetrators detonated explo...</td>\n",
       "      <td>1</td>\n",
       "      <td>0</td>\n",
       "      <td>0.0</td>\n",
       "      <td>0.0</td>\n",
       "    </tr>\n",
       "    <tr>\n",
       "      <th>8</th>\n",
       "      <td>1.970000e+11</td>\n",
       "      <td>1970</td>\n",
       "      <td>1</td>\n",
       "      <td>2</td>\n",
       "      <td>United States</td>\n",
       "      <td>North America</td>\n",
       "      <td>Wisconsin</td>\n",
       "      <td>Madison</td>\n",
       "      <td>NaN</td>\n",
       "      <td>1/2/1970: Karl Armstrong, a member of the New ...</td>\n",
       "      <td>1</td>\n",
       "      <td>0</td>\n",
       "      <td>0.0</td>\n",
       "      <td>0.0</td>\n",
       "    </tr>\n",
       "    <tr>\n",
       "      <th>9</th>\n",
       "      <td>1.970000e+11</td>\n",
       "      <td>1970</td>\n",
       "      <td>1</td>\n",
       "      <td>3</td>\n",
       "      <td>United States</td>\n",
       "      <td>North America</td>\n",
       "      <td>Wisconsin</td>\n",
       "      <td>Madison</td>\n",
       "      <td>NaN</td>\n",
       "      <td>1/3/1970: Karl Armstrong, a member of the New ...</td>\n",
       "      <td>1</td>\n",
       "      <td>0</td>\n",
       "      <td>0.0</td>\n",
       "      <td>0.0</td>\n",
       "    </tr>\n",
       "  </tbody>\n",
       "</table>\n",
       "</div>"
      ],
      "text/plain": [
       "        eventid  iyear  imonth  iday         country_txt  \\\n",
       "0  1.970000e+11   1970       0     0  Dominican Republic   \n",
       "1  1.970000e+11   1970       0     0              Mexico   \n",
       "2  1.970000e+11   1970       1     0         Philippines   \n",
       "3  1.970000e+11   1970       1     0              Greece   \n",
       "4  1.970000e+11   1970       1     0               Japan   \n",
       "5  1.970000e+11   1970       1     1       United States   \n",
       "6  1.970000e+11   1970       1     2             Uruguay   \n",
       "7  1.970000e+11   1970       1     2       United States   \n",
       "8  1.970000e+11   1970       1     2       United States   \n",
       "9  1.970000e+11   1970       1     3       United States   \n",
       "\n",
       "                    region_txt   provstate           city         location  \\\n",
       "0  Central America & Caribbean         NaN  Santo Domingo              NaN   \n",
       "1                North America         NaN    Mexico city              NaN   \n",
       "2               Southeast Asia      Tarlac        Unknown              NaN   \n",
       "3               Western Europe      Attica         Athens              NaN   \n",
       "4                    East Asia         NaN        Fukouka              NaN   \n",
       "5                North America    Illinois          Cairo              NaN   \n",
       "6                South America  Montevideo     Montevideo              NaN   \n",
       "7                North America  California        Oakland  Edes Substation   \n",
       "8                North America   Wisconsin        Madison              NaN   \n",
       "9                North America   Wisconsin        Madison              NaN   \n",
       "\n",
       "                                             summary  success  suicide  nkill  \\\n",
       "0                                                NaN        1        0    1.0   \n",
       "1                                                NaN        1        0    0.0   \n",
       "2                                                NaN        1        0    1.0   \n",
       "3                                                NaN        1        0    NaN   \n",
       "4                                                NaN        1        0    NaN   \n",
       "5  1/1/1970: Unknown African American assailants ...        1        0    0.0   \n",
       "6                                                NaN        0        0    0.0   \n",
       "7  1/2/1970: Unknown perpetrators detonated explo...        1        0    0.0   \n",
       "8  1/2/1970: Karl Armstrong, a member of the New ...        1        0    0.0   \n",
       "9  1/3/1970: Karl Armstrong, a member of the New ...        1        0    0.0   \n",
       "\n",
       "   nwound  \n",
       "0     0.0  \n",
       "1     0.0  \n",
       "2     0.0  \n",
       "3     NaN  \n",
       "4     NaN  \n",
       "5     0.0  \n",
       "6     0.0  \n",
       "7     0.0  \n",
       "8     0.0  \n",
       "9     0.0  "
      ]
     },
     "execution_count": 59,
     "metadata": {},
     "output_type": "execute_result"
    }
   ],
   "source": [
    "df.head(10) #just displaying the data"
   ]
  },
  {
   "cell_type": "code",
   "execution_count": 18,
   "id": "f907fa79",
   "metadata": {},
   "outputs": [
    {
     "data": {
      "text/plain": [
       "eventid        float64\n",
       "iyear            int64\n",
       "imonth           int64\n",
       "iday             int64\n",
       "country_txt     object\n",
       "region_txt      object\n",
       "provstate       object\n",
       "city            object\n",
       "location        object\n",
       "summary         object\n",
       "success          int64\n",
       "suicide          int64\n",
       "nkill          float64\n",
       "nwound         float64\n",
       "dtype: object"
      ]
     },
     "execution_count": 18,
     "metadata": {},
     "output_type": "execute_result"
    }
   ],
   "source": [
    "df.dtypes #checking all the datatypes"
   ]
  },
  {
   "cell_type": "markdown",
   "id": "a503ce8e",
   "metadata": {},
   "source": [
    "**Q.1) How many attacks happened in India?**"
   ]
  },
  {
   "cell_type": "code",
   "execution_count": 225,
   "id": "983072e9",
   "metadata": {},
   "outputs": [
    {
     "name": "stdout",
     "output_type": "stream",
     "text": [
      "Total number of attacks in India is 9940\n"
     ]
    }
   ],
   "source": [
    "Attacks_India=df[df['country_txt']=='India']\n",
    "#Only accessing the countries which is equal to India\n",
    "\n",
    "print(f\"Total number of attacks in India is {Attacks_India.shape[0]}\")"
   ]
  },
  {
   "cell_type": "markdown",
   "id": "68cc2f7e",
   "metadata": {},
   "source": [
    "**Q.2) How many attacks happened in India and upto 3 people were killed?**"
   ]
  },
  {
   "cell_type": "code",
   "execution_count": 226,
   "id": "615bc22d",
   "metadata": {},
   "outputs": [
    {
     "name": "stdout",
     "output_type": "stream",
     "text": [
      "Total number of attacks that happened in India where atmost 3 people were killed 8362\n"
     ]
    }
   ],
   "source": [
    "Q2_India_Attacks=df[(df['country_txt']=='India') & (df['nkill']<=3)]\n",
    "#Acessing all rows in which country is India and kill count is atmost 3\n",
    "\n",
    "print(f'Total number of attacks that happened in India where atmost 3 people were killed {Q2_India_Attacks.shape[0]}')"
   ]
  },
  {
   "cell_type": "markdown",
   "id": "66ef1ca9",
   "metadata": {},
   "source": [
    "**Q.3) Extract the city and summary for attacks above**"
   ]
  },
  {
   "cell_type": "code",
   "execution_count": 227,
   "id": "2edf0556",
   "metadata": {},
   "outputs": [
    {
     "name": "stdout",
     "output_type": "stream",
     "text": [
      "Below is the summary of the attacks in India upto 3\n",
      "              city                                            summary\n",
      "1185     New Delhi                                                NaN\n",
      "3780     New Delhi                                                NaN\n",
      "5251        Bombay                                                NaN\n",
      "7266        Imphal                                                NaN\n",
      "8609       Unknown                                                NaN\n",
      "...            ...                                                ...\n",
      "156695       Terem  12/29/2015: Assailants abducted three students...\n",
      "156698  Peravurani  12/29/2015: An explosive device was discovered...\n",
      "156713   Tulsibari  12/29/2015: Assailants abducted Hazrat Ali in ...\n",
      "156725     Zhutovi  12/30/2015: Assailants attempted to extort mon...\n",
      "156756    Srinagar  12/31/2015: Assailants threw a grenade at an I...\n",
      "\n",
      "[8362 rows x 2 columns]\n"
     ]
    }
   ],
   "source": [
    "Summary=Q2_India_Attacks[[\"city\",\"summary\"]]\n",
    "#Taking the dataframe from Q2 and only displaying city and summary column\n",
    "\n",
    "print('Below is the summary of the attacks in India upto 3')\n",
    "print(Summary)"
   ]
  },
  {
   "cell_type": "markdown",
   "id": "17be3a55",
   "metadata": {},
   "source": [
    "**Q.4) In a single terror incident in India, find out top 5 cities by number killed**\n",
    "Hint: Use each row as as a unique terror incident. Use country_txt, nkill and city\n",
    "columns"
   ]
  },
  {
   "cell_type": "code",
   "execution_count": 308,
   "id": "5a1881f7",
   "metadata": {},
   "outputs": [
    {
     "name": "stdout",
     "output_type": "stream",
     "text": [
      "The data of top 5 cities killed by number are \n",
      "      country_txt                city  nkill\n",
      "81000       India              Mumbai  188.0\n",
      "96598       India             Jhargam  115.0\n",
      "54339       India              Bombay  115.0\n",
      "95860       India  Dantewada district   82.0\n",
      "56837       India            Banabari   70.0\n",
      "\u001b[1mThe top 5 cities are \n",
      "            Mumbai\n",
      "           Jhargam\n",
      "            Bombay\n",
      "Dantewada district\n",
      "          Banabari\n"
     ]
    }
   ],
   "source": [
    "Top_killed_cities=Attacks_India.sort_values(by=\"nkill\",ascending=False)\n",
    "#Acessing the dataframe from Q1 where it hold all attacks in India\n",
    "#sorting it in descending order to get the top 5.\n",
    "\n",
    "Top_killed_cities=Top_killed_cities[[\"country_txt\",\"city\",\"nkill\"]]\n",
    "#only considering the reqired columns\n",
    "\n",
    "print(f'The data of top 5 cities killed by number are \\n{Top_killed_cities.head(5)}')\n",
    "\n",
    "Just_cities=Top_killed_cities.iloc[0:5,1].to_string(index=False)\n",
    "#To only know the name of the cities without it's index, we have to convert it into a string with index value as False.\n",
    "\n",
    "print('\\033[1m'+ f\"The top 5 cities are \\n{Just_cities}\")\n",
    "\n"
   ]
  },
  {
   "cell_type": "markdown",
   "id": "de92c5db",
   "metadata": {},
   "source": [
    "**Q.5) In a single terror incident in India, find out top 5 cities by number killed and\n",
    "wounded**\n",
    "Hint: Use each row as as a unique terror incident. Use country_txt, nkill,\n",
    "nwound and city columns"
   ]
  },
  {
   "cell_type": "code",
   "execution_count": 322,
   "id": "bcd41a7e",
   "metadata": {},
   "outputs": [
    {
     "name": "stdout",
     "output_type": "stream",
     "text": [
      "The data of top 5 cities killed by number are \n",
      "            city  Killed_Wounded  nkill  nwound\n",
      "81000     Mumbai          1005.0  188.0   817.0\n",
      "89128     Dispur           272.0   37.0   235.0\n",
      "96598    Jhargam           255.0  115.0   140.0\n",
      "30378    Chennai           232.0   32.0   200.0\n",
      "79045  New Delhi           210.0   55.0   155.0\n",
      "\u001b[1mThe top 5 cities are \n",
      "   Mumbai\n",
      "   Dispur\n",
      "  Jhargam\n",
      "  Chennai\n",
      "New Delhi\n"
     ]
    }
   ],
   "source": [
    "df2=Attacks_India.copy()\n",
    "#copying into a new data set as a new column is being added\n",
    "\n",
    "df2[\"Killed_Wounded\"]=Attacks_India[\"nkill\"] + Attacks_India[\"nwound\"]\n",
    "#Adding a new column which is an addition of both kills and wounds to sort.\n",
    "\n",
    "Top_kill_wound_cities=df2.sort_values(by=\"Killed_Wounded\",ascending=False)\n",
    "#Sorting in descending order.\n",
    "\n",
    "Top_kill_wound_cities=Top_kill_wound_cities[[\"city\",\"Killed_Wounded\",\"nkill\",\"nwound\"]]\n",
    "#displaying only the required data\n",
    "\n",
    "print(f'The data of top 5 cities killed by number are \\n{Top_kill_wound_cities.head(5)}')\n",
    "\n",
    "Just_cities=Top_kill_wound_cities.iloc[0:5,0].to_string(index=False)\n",
    "#To only know the name of the cities without it's index, we have to convert it into a string with index value as False.\n",
    "\n",
    "print('\\033[1m'+ f\"The top 5 cities are \\n{Just_cities}\")\n"
   ]
  },
  {
   "cell_type": "code",
   "execution_count": 323,
   "id": "c0a08b85",
   "metadata": {},
   "outputs": [
    {
     "data": {
      "text/html": [
       "<div>\n",
       "<style scoped>\n",
       "    .dataframe tbody tr th:only-of-type {\n",
       "        vertical-align: middle;\n",
       "    }\n",
       "\n",
       "    .dataframe tbody tr th {\n",
       "        vertical-align: top;\n",
       "    }\n",
       "\n",
       "    .dataframe thead th {\n",
       "        text-align: right;\n",
       "    }\n",
       "</style>\n",
       "<table border=\"1\" class=\"dataframe\">\n",
       "  <thead>\n",
       "    <tr style=\"text-align: right;\">\n",
       "      <th></th>\n",
       "      <th>country_txt</th>\n",
       "      <th>city</th>\n",
       "      <th>nkill</th>\n",
       "      <th>nwound</th>\n",
       "    </tr>\n",
       "  </thead>\n",
       "  <tbody>\n",
       "    <tr>\n",
       "      <th>81000</th>\n",
       "      <td>India</td>\n",
       "      <td>Mumbai</td>\n",
       "      <td>188.0</td>\n",
       "      <td>817.0</td>\n",
       "    </tr>\n",
       "    <tr>\n",
       "      <th>96598</th>\n",
       "      <td>India</td>\n",
       "      <td>Jhargam</td>\n",
       "      <td>115.0</td>\n",
       "      <td>140.0</td>\n",
       "    </tr>\n",
       "    <tr>\n",
       "      <th>54339</th>\n",
       "      <td>India</td>\n",
       "      <td>Bombay</td>\n",
       "      <td>115.0</td>\n",
       "      <td>0.0</td>\n",
       "    </tr>\n",
       "    <tr>\n",
       "      <th>95860</th>\n",
       "      <td>India</td>\n",
       "      <td>Dantewada district</td>\n",
       "      <td>82.0</td>\n",
       "      <td>0.0</td>\n",
       "    </tr>\n",
       "    <tr>\n",
       "      <th>56837</th>\n",
       "      <td>India</td>\n",
       "      <td>Banabari</td>\n",
       "      <td>70.0</td>\n",
       "      <td>100.0</td>\n",
       "    </tr>\n",
       "  </tbody>\n",
       "</table>\n",
       "</div>"
      ],
      "text/plain": [
       "      country_txt                city  nkill  nwound\n",
       "81000       India              Mumbai  188.0   817.0\n",
       "96598       India             Jhargam  115.0   140.0\n",
       "54339       India              Bombay  115.0     0.0\n",
       "95860       India  Dantewada district   82.0     0.0\n",
       "56837       India            Banabari   70.0   100.0"
      ]
     },
     "execution_count": 323,
     "metadata": {},
     "output_type": "execute_result"
    }
   ],
   "source": [
    "#Alternate understanding and solution for the above question, where nkill and nwound are not added. \n",
    "\n",
    "Top_kill_wound_cities=Attacks_India.sort_values(by=[\"nkill\",\"nwound\"],ascending=False)\n",
    "Top_kill_wound_cities=Top_kill_wound_cities[[\"country_txt\",\"city\",\"nkill\",\"nwound\"]]\n",
    "Top_kill_wound_cities.head()"
   ]
  },
  {
   "cell_type": "markdown",
   "id": "42dbaceb",
   "metadata": {},
   "source": [
    "**Q.6) How many attacks were successful that were suicide attacks?**\n",
    "Hint: Use suicide and success columns"
   ]
  },
  {
   "cell_type": "code",
   "execution_count": 231,
   "id": "989cf889",
   "metadata": {},
   "outputs": [
    {
     "name": "stdout",
     "output_type": "stream",
     "text": [
      "The number of attacks that were successful and were also a suicide attacks 4260\n"
     ]
    }
   ],
   "source": [
    "Succeful_suicide=df[(df['suicide']==1) & (df[\"success\"]==1)]\n",
    "# Attacks where success and suicide has occured which is 1.\n",
    "\n",
    "print(f'The number of attacks that were successful and were also a suicide attacks {Succeful_suicide.shape[0]}')"
   ]
  },
  {
   "cell_type": "markdown",
   "id": "04742f64",
   "metadata": {},
   "source": [
    "**Q.7) Label all the incidents where the number killed was more than 5 as severe.**\n",
    "Hint:\n",
    "Use Aggregations and manipulations using apply and map\n",
    "#map: map a function to each element of a series object\n",
    "#Suppose we want to label all the incidents where the number killed was more\n",
    "than 5 as severe. This would involve applying a function on each element of the\n",
    "series, map helps in doing that.\n",
    "#You can use lambda functions as well (if else follows a special form when used\n",
    "with lambdas )\n",
    "Use the nkill column."
   ]
  },
  {
   "cell_type": "code",
   "execution_count": 232,
   "id": "b6bb7d26",
   "metadata": {},
   "outputs": [
    {
     "name": "stdout",
     "output_type": "stream",
     "text": [
      "A new column called Severity is added to the dataframe showing if kills were severe if more than 5\n"
     ]
    },
    {
     "data": {
      "text/html": [
       "<div>\n",
       "<style scoped>\n",
       "    .dataframe tbody tr th:only-of-type {\n",
       "        vertical-align: middle;\n",
       "    }\n",
       "\n",
       "    .dataframe tbody tr th {\n",
       "        vertical-align: top;\n",
       "    }\n",
       "\n",
       "    .dataframe thead th {\n",
       "        text-align: right;\n",
       "    }\n",
       "</style>\n",
       "<table border=\"1\" class=\"dataframe\">\n",
       "  <thead>\n",
       "    <tr style=\"text-align: right;\">\n",
       "      <th></th>\n",
       "      <th>eventid</th>\n",
       "      <th>iyear</th>\n",
       "      <th>imonth</th>\n",
       "      <th>iday</th>\n",
       "      <th>country_txt</th>\n",
       "      <th>region_txt</th>\n",
       "      <th>provstate</th>\n",
       "      <th>city</th>\n",
       "      <th>location</th>\n",
       "      <th>summary</th>\n",
       "      <th>success</th>\n",
       "      <th>suicide</th>\n",
       "      <th>nkill</th>\n",
       "      <th>nwound</th>\n",
       "      <th>severity</th>\n",
       "    </tr>\n",
       "  </thead>\n",
       "  <tbody>\n",
       "    <tr>\n",
       "      <th>0</th>\n",
       "      <td>1.970000e+11</td>\n",
       "      <td>1970</td>\n",
       "      <td>0</td>\n",
       "      <td>0</td>\n",
       "      <td>Dominican Republic</td>\n",
       "      <td>Central America &amp; Caribbean</td>\n",
       "      <td>NaN</td>\n",
       "      <td>Santo Domingo</td>\n",
       "      <td>NaN</td>\n",
       "      <td>NaN</td>\n",
       "      <td>1</td>\n",
       "      <td>0</td>\n",
       "      <td>1.0</td>\n",
       "      <td>0.0</td>\n",
       "      <td>Not Severe</td>\n",
       "    </tr>\n",
       "    <tr>\n",
       "      <th>1</th>\n",
       "      <td>1.970000e+11</td>\n",
       "      <td>1970</td>\n",
       "      <td>0</td>\n",
       "      <td>0</td>\n",
       "      <td>Mexico</td>\n",
       "      <td>North America</td>\n",
       "      <td>NaN</td>\n",
       "      <td>Mexico city</td>\n",
       "      <td>NaN</td>\n",
       "      <td>NaN</td>\n",
       "      <td>1</td>\n",
       "      <td>0</td>\n",
       "      <td>0.0</td>\n",
       "      <td>0.0</td>\n",
       "      <td>Not Severe</td>\n",
       "    </tr>\n",
       "    <tr>\n",
       "      <th>2</th>\n",
       "      <td>1.970000e+11</td>\n",
       "      <td>1970</td>\n",
       "      <td>1</td>\n",
       "      <td>0</td>\n",
       "      <td>Philippines</td>\n",
       "      <td>Southeast Asia</td>\n",
       "      <td>Tarlac</td>\n",
       "      <td>Unknown</td>\n",
       "      <td>NaN</td>\n",
       "      <td>NaN</td>\n",
       "      <td>1</td>\n",
       "      <td>0</td>\n",
       "      <td>1.0</td>\n",
       "      <td>0.0</td>\n",
       "      <td>Not Severe</td>\n",
       "    </tr>\n",
       "    <tr>\n",
       "      <th>3</th>\n",
       "      <td>1.970000e+11</td>\n",
       "      <td>1970</td>\n",
       "      <td>1</td>\n",
       "      <td>0</td>\n",
       "      <td>Greece</td>\n",
       "      <td>Western Europe</td>\n",
       "      <td>Attica</td>\n",
       "      <td>Athens</td>\n",
       "      <td>NaN</td>\n",
       "      <td>NaN</td>\n",
       "      <td>1</td>\n",
       "      <td>0</td>\n",
       "      <td>NaN</td>\n",
       "      <td>NaN</td>\n",
       "      <td>Not Severe</td>\n",
       "    </tr>\n",
       "    <tr>\n",
       "      <th>4</th>\n",
       "      <td>1.970000e+11</td>\n",
       "      <td>1970</td>\n",
       "      <td>1</td>\n",
       "      <td>0</td>\n",
       "      <td>Japan</td>\n",
       "      <td>East Asia</td>\n",
       "      <td>NaN</td>\n",
       "      <td>Fukouka</td>\n",
       "      <td>NaN</td>\n",
       "      <td>NaN</td>\n",
       "      <td>1</td>\n",
       "      <td>0</td>\n",
       "      <td>NaN</td>\n",
       "      <td>NaN</td>\n",
       "      <td>Not Severe</td>\n",
       "    </tr>\n",
       "    <tr>\n",
       "      <th>5</th>\n",
       "      <td>1.970000e+11</td>\n",
       "      <td>1970</td>\n",
       "      <td>1</td>\n",
       "      <td>1</td>\n",
       "      <td>United States</td>\n",
       "      <td>North America</td>\n",
       "      <td>Illinois</td>\n",
       "      <td>Cairo</td>\n",
       "      <td>NaN</td>\n",
       "      <td>1/1/1970: Unknown African American assailants ...</td>\n",
       "      <td>1</td>\n",
       "      <td>0</td>\n",
       "      <td>0.0</td>\n",
       "      <td>0.0</td>\n",
       "      <td>Not Severe</td>\n",
       "    </tr>\n",
       "    <tr>\n",
       "      <th>6</th>\n",
       "      <td>1.970000e+11</td>\n",
       "      <td>1970</td>\n",
       "      <td>1</td>\n",
       "      <td>2</td>\n",
       "      <td>Uruguay</td>\n",
       "      <td>South America</td>\n",
       "      <td>Montevideo</td>\n",
       "      <td>Montevideo</td>\n",
       "      <td>NaN</td>\n",
       "      <td>NaN</td>\n",
       "      <td>0</td>\n",
       "      <td>0</td>\n",
       "      <td>0.0</td>\n",
       "      <td>0.0</td>\n",
       "      <td>Not Severe</td>\n",
       "    </tr>\n",
       "    <tr>\n",
       "      <th>7</th>\n",
       "      <td>1.970000e+11</td>\n",
       "      <td>1970</td>\n",
       "      <td>1</td>\n",
       "      <td>2</td>\n",
       "      <td>United States</td>\n",
       "      <td>North America</td>\n",
       "      <td>California</td>\n",
       "      <td>Oakland</td>\n",
       "      <td>Edes Substation</td>\n",
       "      <td>1/2/1970: Unknown perpetrators detonated explo...</td>\n",
       "      <td>1</td>\n",
       "      <td>0</td>\n",
       "      <td>0.0</td>\n",
       "      <td>0.0</td>\n",
       "      <td>Not Severe</td>\n",
       "    </tr>\n",
       "    <tr>\n",
       "      <th>8</th>\n",
       "      <td>1.970000e+11</td>\n",
       "      <td>1970</td>\n",
       "      <td>1</td>\n",
       "      <td>2</td>\n",
       "      <td>United States</td>\n",
       "      <td>North America</td>\n",
       "      <td>Wisconsin</td>\n",
       "      <td>Madison</td>\n",
       "      <td>NaN</td>\n",
       "      <td>1/2/1970: Karl Armstrong, a member of the New ...</td>\n",
       "      <td>1</td>\n",
       "      <td>0</td>\n",
       "      <td>0.0</td>\n",
       "      <td>0.0</td>\n",
       "      <td>Not Severe</td>\n",
       "    </tr>\n",
       "    <tr>\n",
       "      <th>9</th>\n",
       "      <td>1.970000e+11</td>\n",
       "      <td>1970</td>\n",
       "      <td>1</td>\n",
       "      <td>3</td>\n",
       "      <td>United States</td>\n",
       "      <td>North America</td>\n",
       "      <td>Wisconsin</td>\n",
       "      <td>Madison</td>\n",
       "      <td>NaN</td>\n",
       "      <td>1/3/1970: Karl Armstrong, a member of the New ...</td>\n",
       "      <td>1</td>\n",
       "      <td>0</td>\n",
       "      <td>0.0</td>\n",
       "      <td>0.0</td>\n",
       "      <td>Not Severe</td>\n",
       "    </tr>\n",
       "  </tbody>\n",
       "</table>\n",
       "</div>"
      ],
      "text/plain": [
       "        eventid  iyear  imonth  iday         country_txt  \\\n",
       "0  1.970000e+11   1970       0     0  Dominican Republic   \n",
       "1  1.970000e+11   1970       0     0              Mexico   \n",
       "2  1.970000e+11   1970       1     0         Philippines   \n",
       "3  1.970000e+11   1970       1     0              Greece   \n",
       "4  1.970000e+11   1970       1     0               Japan   \n",
       "5  1.970000e+11   1970       1     1       United States   \n",
       "6  1.970000e+11   1970       1     2             Uruguay   \n",
       "7  1.970000e+11   1970       1     2       United States   \n",
       "8  1.970000e+11   1970       1     2       United States   \n",
       "9  1.970000e+11   1970       1     3       United States   \n",
       "\n",
       "                    region_txt   provstate           city         location  \\\n",
       "0  Central America & Caribbean         NaN  Santo Domingo              NaN   \n",
       "1                North America         NaN    Mexico city              NaN   \n",
       "2               Southeast Asia      Tarlac        Unknown              NaN   \n",
       "3               Western Europe      Attica         Athens              NaN   \n",
       "4                    East Asia         NaN        Fukouka              NaN   \n",
       "5                North America    Illinois          Cairo              NaN   \n",
       "6                South America  Montevideo     Montevideo              NaN   \n",
       "7                North America  California        Oakland  Edes Substation   \n",
       "8                North America   Wisconsin        Madison              NaN   \n",
       "9                North America   Wisconsin        Madison              NaN   \n",
       "\n",
       "                                             summary  success  suicide  nkill  \\\n",
       "0                                                NaN        1        0    1.0   \n",
       "1                                                NaN        1        0    0.0   \n",
       "2                                                NaN        1        0    1.0   \n",
       "3                                                NaN        1        0    NaN   \n",
       "4                                                NaN        1        0    NaN   \n",
       "5  1/1/1970: Unknown African American assailants ...        1        0    0.0   \n",
       "6                                                NaN        0        0    0.0   \n",
       "7  1/2/1970: Unknown perpetrators detonated explo...        1        0    0.0   \n",
       "8  1/2/1970: Karl Armstrong, a member of the New ...        1        0    0.0   \n",
       "9  1/3/1970: Karl Armstrong, a member of the New ...        1        0    0.0   \n",
       "\n",
       "   nwound    severity  \n",
       "0     0.0  Not Severe  \n",
       "1     0.0  Not Severe  \n",
       "2     0.0  Not Severe  \n",
       "3     NaN  Not Severe  \n",
       "4     NaN  Not Severe  \n",
       "5     0.0  Not Severe  \n",
       "6     0.0  Not Severe  \n",
       "7     0.0  Not Severe  \n",
       "8     0.0  Not Severe  \n",
       "9     0.0  Not Severe  "
      ]
     },
     "execution_count": 232,
     "metadata": {},
     "output_type": "execute_result"
    }
   ],
   "source": [
    "df1=df.copy() #Copied into a new dataframe as i don't want to change the original one\n",
    "\n",
    "df1['severity'] = df1['nkill'].map(lambda x: 'Severe' if (x>5) else 'Not Severe')\n",
    "#adding a new column severity where kills more than 5 are considered severe, and less than 5 or 5 considered as not severe.\n",
    "\n",
    "print(\"A new column called Severity is added to the dataframe showing if kills were severe if more than 5\")\n",
    "df1.head(10)\n"
   ]
  },
  {
   "cell_type": "markdown",
   "id": "ce14bf12",
   "metadata": {},
   "source": [
    "**Q.8) write a function to label an incident that was both successful and suicidal.**\n",
    "Hint: We can use apply to use a function column wise where you can use\n",
    "columns success and suicide in the data"
   ]
  },
  {
   "cell_type": "code",
   "execution_count": 236,
   "id": "191fa8b7",
   "metadata": {},
   "outputs": [
    {
     "data": {
      "text/html": [
       "<div>\n",
       "<style scoped>\n",
       "    .dataframe tbody tr th:only-of-type {\n",
       "        vertical-align: middle;\n",
       "    }\n",
       "\n",
       "    .dataframe tbody tr th {\n",
       "        vertical-align: top;\n",
       "    }\n",
       "\n",
       "    .dataframe thead th {\n",
       "        text-align: right;\n",
       "    }\n",
       "</style>\n",
       "<table border=\"1\" class=\"dataframe\">\n",
       "  <thead>\n",
       "    <tr style=\"text-align: right;\">\n",
       "      <th></th>\n",
       "      <th>eventid</th>\n",
       "      <th>iyear</th>\n",
       "      <th>imonth</th>\n",
       "      <th>iday</th>\n",
       "      <th>country_txt</th>\n",
       "      <th>region_txt</th>\n",
       "      <th>provstate</th>\n",
       "      <th>city</th>\n",
       "      <th>location</th>\n",
       "      <th>summary</th>\n",
       "      <th>success</th>\n",
       "      <th>suicide</th>\n",
       "      <th>nkill</th>\n",
       "      <th>nwound</th>\n",
       "      <th>severity</th>\n",
       "      <th>Suicide and Success</th>\n",
       "    </tr>\n",
       "  </thead>\n",
       "  <tbody>\n",
       "    <tr>\n",
       "      <th>0</th>\n",
       "      <td>1.970000e+11</td>\n",
       "      <td>1970</td>\n",
       "      <td>0</td>\n",
       "      <td>0</td>\n",
       "      <td>Dominican Republic</td>\n",
       "      <td>Central America &amp; Caribbean</td>\n",
       "      <td>NaN</td>\n",
       "      <td>Santo Domingo</td>\n",
       "      <td>NaN</td>\n",
       "      <td>NaN</td>\n",
       "      <td>1</td>\n",
       "      <td>0</td>\n",
       "      <td>1.0</td>\n",
       "      <td>0.0</td>\n",
       "      <td>Not Severe</td>\n",
       "      <td>Both did not occur</td>\n",
       "    </tr>\n",
       "    <tr>\n",
       "      <th>1</th>\n",
       "      <td>1.970000e+11</td>\n",
       "      <td>1970</td>\n",
       "      <td>0</td>\n",
       "      <td>0</td>\n",
       "      <td>Mexico</td>\n",
       "      <td>North America</td>\n",
       "      <td>NaN</td>\n",
       "      <td>Mexico city</td>\n",
       "      <td>NaN</td>\n",
       "      <td>NaN</td>\n",
       "      <td>1</td>\n",
       "      <td>0</td>\n",
       "      <td>0.0</td>\n",
       "      <td>0.0</td>\n",
       "      <td>Not Severe</td>\n",
       "      <td>Both did not occur</td>\n",
       "    </tr>\n",
       "    <tr>\n",
       "      <th>2</th>\n",
       "      <td>1.970000e+11</td>\n",
       "      <td>1970</td>\n",
       "      <td>1</td>\n",
       "      <td>0</td>\n",
       "      <td>Philippines</td>\n",
       "      <td>Southeast Asia</td>\n",
       "      <td>Tarlac</td>\n",
       "      <td>Unknown</td>\n",
       "      <td>NaN</td>\n",
       "      <td>NaN</td>\n",
       "      <td>1</td>\n",
       "      <td>0</td>\n",
       "      <td>1.0</td>\n",
       "      <td>0.0</td>\n",
       "      <td>Not Severe</td>\n",
       "      <td>Both did not occur</td>\n",
       "    </tr>\n",
       "    <tr>\n",
       "      <th>3</th>\n",
       "      <td>1.970000e+11</td>\n",
       "      <td>1970</td>\n",
       "      <td>1</td>\n",
       "      <td>0</td>\n",
       "      <td>Greece</td>\n",
       "      <td>Western Europe</td>\n",
       "      <td>Attica</td>\n",
       "      <td>Athens</td>\n",
       "      <td>NaN</td>\n",
       "      <td>NaN</td>\n",
       "      <td>1</td>\n",
       "      <td>0</td>\n",
       "      <td>NaN</td>\n",
       "      <td>NaN</td>\n",
       "      <td>Not Severe</td>\n",
       "      <td>Both did not occur</td>\n",
       "    </tr>\n",
       "    <tr>\n",
       "      <th>4</th>\n",
       "      <td>1.970000e+11</td>\n",
       "      <td>1970</td>\n",
       "      <td>1</td>\n",
       "      <td>0</td>\n",
       "      <td>Japan</td>\n",
       "      <td>East Asia</td>\n",
       "      <td>NaN</td>\n",
       "      <td>Fukouka</td>\n",
       "      <td>NaN</td>\n",
       "      <td>NaN</td>\n",
       "      <td>1</td>\n",
       "      <td>0</td>\n",
       "      <td>NaN</td>\n",
       "      <td>NaN</td>\n",
       "      <td>Not Severe</td>\n",
       "      <td>Both did not occur</td>\n",
       "    </tr>\n",
       "  </tbody>\n",
       "</table>\n",
       "</div>"
      ],
      "text/plain": [
       "        eventid  iyear  imonth  iday         country_txt  \\\n",
       "0  1.970000e+11   1970       0     0  Dominican Republic   \n",
       "1  1.970000e+11   1970       0     0              Mexico   \n",
       "2  1.970000e+11   1970       1     0         Philippines   \n",
       "3  1.970000e+11   1970       1     0              Greece   \n",
       "4  1.970000e+11   1970       1     0               Japan   \n",
       "\n",
       "                    region_txt provstate           city location summary  \\\n",
       "0  Central America & Caribbean       NaN  Santo Domingo      NaN     NaN   \n",
       "1                North America       NaN    Mexico city      NaN     NaN   \n",
       "2               Southeast Asia    Tarlac        Unknown      NaN     NaN   \n",
       "3               Western Europe    Attica         Athens      NaN     NaN   \n",
       "4                    East Asia       NaN        Fukouka      NaN     NaN   \n",
       "\n",
       "   success  suicide  nkill  nwound    severity Suicide and Success  \n",
       "0        1        0    1.0     0.0  Not Severe  Both did not occur  \n",
       "1        1        0    0.0     0.0  Not Severe  Both did not occur  \n",
       "2        1        0    1.0     0.0  Not Severe  Both did not occur  \n",
       "3        1        0    NaN     NaN  Not Severe  Both did not occur  \n",
       "4        1        0    NaN     NaN  Not Severe  Both did not occur  "
      ]
     },
     "execution_count": 236,
     "metadata": {},
     "output_type": "execute_result"
    }
   ],
   "source": [
    "df1['Suicide and Success']=df1.apply(lambda x: 'Both occured' if ((x['success']==1) & (x['suicide']==1)) else 'Both did not occur',axis=1)\n",
    "#Adding a new column \"Suicide and Success where I have applied on the column(axis 1) when success and suicide is 1\n",
    "\n",
    "df1.head()\n",
    "\n",
    "\n",
    "#df2=df1[df1['Suicide and Success']==\"Both occured\"]\n",
    "#df2.head() This was just to check the both occured records."
   ]
  },
  {
   "cell_type": "markdown",
   "id": "677f5c70",
   "metadata": {},
   "source": [
    "**Q.9) Create a new category representing if the incident occured in Afghanistan,\n",
    "Pakistan or India as one level of the category and all the other countries as\n",
    "another level. Label all other countries as ROW and new column which contains\n",
    "the new category as ‘Local’ in the data.**\n",
    "Hint: Create a new category representing if the incident occured in Afghanistan,\n",
    "Pakistan or India as one level of the category and all the other countries as\n",
    "another level.\n",
    "Use the columns – country_txt and create a new column called “Local” in the\n",
    "dataset"
   ]
  },
  {
   "cell_type": "code",
   "execution_count": 237,
   "id": "e1ac06ee",
   "metadata": {},
   "outputs": [
    {
     "data": {
      "text/html": [
       "<div>\n",
       "<style scoped>\n",
       "    .dataframe tbody tr th:only-of-type {\n",
       "        vertical-align: middle;\n",
       "    }\n",
       "\n",
       "    .dataframe tbody tr th {\n",
       "        vertical-align: top;\n",
       "    }\n",
       "\n",
       "    .dataframe thead th {\n",
       "        text-align: right;\n",
       "    }\n",
       "</style>\n",
       "<table border=\"1\" class=\"dataframe\">\n",
       "  <thead>\n",
       "    <tr style=\"text-align: right;\">\n",
       "      <th></th>\n",
       "      <th>eventid</th>\n",
       "      <th>iyear</th>\n",
       "      <th>imonth</th>\n",
       "      <th>iday</th>\n",
       "      <th>country_txt</th>\n",
       "      <th>region_txt</th>\n",
       "      <th>provstate</th>\n",
       "      <th>city</th>\n",
       "      <th>location</th>\n",
       "      <th>summary</th>\n",
       "      <th>success</th>\n",
       "      <th>suicide</th>\n",
       "      <th>nkill</th>\n",
       "      <th>nwound</th>\n",
       "      <th>severity</th>\n",
       "      <th>Suicide and Success</th>\n",
       "      <th>Local</th>\n",
       "    </tr>\n",
       "  </thead>\n",
       "  <tbody>\n",
       "    <tr>\n",
       "      <th>0</th>\n",
       "      <td>1.970000e+11</td>\n",
       "      <td>1970</td>\n",
       "      <td>0</td>\n",
       "      <td>0</td>\n",
       "      <td>Dominican Republic</td>\n",
       "      <td>Central America &amp; Caribbean</td>\n",
       "      <td>NaN</td>\n",
       "      <td>Santo Domingo</td>\n",
       "      <td>NaN</td>\n",
       "      <td>NaN</td>\n",
       "      <td>1</td>\n",
       "      <td>0</td>\n",
       "      <td>1.0</td>\n",
       "      <td>0.0</td>\n",
       "      <td>Not Severe</td>\n",
       "      <td>Both did not occur</td>\n",
       "      <td>ROW</td>\n",
       "    </tr>\n",
       "    <tr>\n",
       "      <th>1</th>\n",
       "      <td>1.970000e+11</td>\n",
       "      <td>1970</td>\n",
       "      <td>0</td>\n",
       "      <td>0</td>\n",
       "      <td>Mexico</td>\n",
       "      <td>North America</td>\n",
       "      <td>NaN</td>\n",
       "      <td>Mexico city</td>\n",
       "      <td>NaN</td>\n",
       "      <td>NaN</td>\n",
       "      <td>1</td>\n",
       "      <td>0</td>\n",
       "      <td>0.0</td>\n",
       "      <td>0.0</td>\n",
       "      <td>Not Severe</td>\n",
       "      <td>Both did not occur</td>\n",
       "      <td>ROW</td>\n",
       "    </tr>\n",
       "    <tr>\n",
       "      <th>2</th>\n",
       "      <td>1.970000e+11</td>\n",
       "      <td>1970</td>\n",
       "      <td>1</td>\n",
       "      <td>0</td>\n",
       "      <td>Philippines</td>\n",
       "      <td>Southeast Asia</td>\n",
       "      <td>Tarlac</td>\n",
       "      <td>Unknown</td>\n",
       "      <td>NaN</td>\n",
       "      <td>NaN</td>\n",
       "      <td>1</td>\n",
       "      <td>0</td>\n",
       "      <td>1.0</td>\n",
       "      <td>0.0</td>\n",
       "      <td>Not Severe</td>\n",
       "      <td>Both did not occur</td>\n",
       "      <td>ROW</td>\n",
       "    </tr>\n",
       "    <tr>\n",
       "      <th>3</th>\n",
       "      <td>1.970000e+11</td>\n",
       "      <td>1970</td>\n",
       "      <td>1</td>\n",
       "      <td>0</td>\n",
       "      <td>Greece</td>\n",
       "      <td>Western Europe</td>\n",
       "      <td>Attica</td>\n",
       "      <td>Athens</td>\n",
       "      <td>NaN</td>\n",
       "      <td>NaN</td>\n",
       "      <td>1</td>\n",
       "      <td>0</td>\n",
       "      <td>NaN</td>\n",
       "      <td>NaN</td>\n",
       "      <td>Not Severe</td>\n",
       "      <td>Both did not occur</td>\n",
       "      <td>ROW</td>\n",
       "    </tr>\n",
       "    <tr>\n",
       "      <th>4</th>\n",
       "      <td>1.970000e+11</td>\n",
       "      <td>1970</td>\n",
       "      <td>1</td>\n",
       "      <td>0</td>\n",
       "      <td>Japan</td>\n",
       "      <td>East Asia</td>\n",
       "      <td>NaN</td>\n",
       "      <td>Fukouka</td>\n",
       "      <td>NaN</td>\n",
       "      <td>NaN</td>\n",
       "      <td>1</td>\n",
       "      <td>0</td>\n",
       "      <td>NaN</td>\n",
       "      <td>NaN</td>\n",
       "      <td>Not Severe</td>\n",
       "      <td>Both did not occur</td>\n",
       "      <td>ROW</td>\n",
       "    </tr>\n",
       "  </tbody>\n",
       "</table>\n",
       "</div>"
      ],
      "text/plain": [
       "        eventid  iyear  imonth  iday         country_txt  \\\n",
       "0  1.970000e+11   1970       0     0  Dominican Republic   \n",
       "1  1.970000e+11   1970       0     0              Mexico   \n",
       "2  1.970000e+11   1970       1     0         Philippines   \n",
       "3  1.970000e+11   1970       1     0              Greece   \n",
       "4  1.970000e+11   1970       1     0               Japan   \n",
       "\n",
       "                    region_txt provstate           city location summary  \\\n",
       "0  Central America & Caribbean       NaN  Santo Domingo      NaN     NaN   \n",
       "1                North America       NaN    Mexico city      NaN     NaN   \n",
       "2               Southeast Asia    Tarlac        Unknown      NaN     NaN   \n",
       "3               Western Europe    Attica         Athens      NaN     NaN   \n",
       "4                    East Asia       NaN        Fukouka      NaN     NaN   \n",
       "\n",
       "   success  suicide  nkill  nwound    severity Suicide and Success Local  \n",
       "0        1        0    1.0     0.0  Not Severe  Both did not occur   ROW  \n",
       "1        1        0    0.0     0.0  Not Severe  Both did not occur   ROW  \n",
       "2        1        0    1.0     0.0  Not Severe  Both did not occur   ROW  \n",
       "3        1        0    NaN     NaN  Not Severe  Both did not occur   ROW  \n",
       "4        1        0    NaN     NaN  Not Severe  Both did not occur   ROW  "
      ]
     },
     "execution_count": 237,
     "metadata": {},
     "output_type": "execute_result"
    }
   ],
   "source": [
    "df1[\"Local\"]=df1[\"country_txt\"].apply(lambda x: \"LOCAL\" if x in [\"Afghanistan\",\"India\",\"Pakistan\"] else \"ROW\")\n",
    "#Adding a new column \"Local\" where if countries are Af-Pak-Ind they are LOCAL and Rest of the World is ROW . \n",
    "\n",
    "df1.head()"
   ]
  },
  {
   "cell_type": "markdown",
   "id": "1f6c71d1",
   "metadata": {},
   "source": [
    "**Q.10) How many incidents happened in Af-Pak-India vs ROW?**\n",
    "Hint: Use the newly created column “Local” and do a value_count or use the size\n",
    "function"
   ]
  },
  {
   "cell_type": "code",
   "execution_count": 239,
   "id": "855d5f0c",
   "metadata": {},
   "outputs": [
    {
     "name": "stdout",
     "output_type": "stream",
     "text": [
      "Number of incidents between Af-Pak-Ind vs ROW \n",
      "ROW      124374\n",
      "LOCAL     32398\n",
      "Name: Local, dtype: int64\n"
     ]
    }
   ],
   "source": [
    "comparision=df1[\"Local\"].value_counts()\n",
    "#Counting the value of each unique row values(ie ROW and LOCAL) of column local.\n",
    "\n",
    "print(f\"Number of incidents between Af-Pak-Ind vs ROW \\n{comparision}\")"
   ]
  },
  {
   "cell_type": "code",
   "execution_count": 242,
   "id": "331e6bb0",
   "metadata": {},
   "outputs": [
    {
     "name": "stdout",
     "output_type": "stream",
     "text": [
      "No of incidents happened in Al_Pak_Ind 32398 and Other places 124374\n"
     ]
    }
   ],
   "source": [
    "#Alternate solution printing each value seperately.\n",
    "\n",
    "Al_Pak_Ind=df1[df1[\"Local\"]==\"LOCAL\"].shape[0]\n",
    "#getting the count of all LOCAL\n",
    "\n",
    "Row=df1[df1[\"Local\"]==\"ROW\"].shape[0]\n",
    "#getting the count of all ROW\n",
    "\n",
    "print(f\"No of incidents happened in Al_Pak_Ind {Al_Pak_Ind} and Other places {Row}\")"
   ]
  },
  {
   "cell_type": "markdown",
   "id": "d9a40cf2",
   "metadata": {},
   "source": [
    "######                                END OF TERROR DATAFRAME QUESTIONS"
   ]
  },
  {
   "cell_type": "markdown",
   "id": "39f4b63e",
   "metadata": {},
   "source": [
    "### STACKOVERFLOW.CSV"
   ]
  },
  {
   "cell_type": "code",
   "execution_count": 336,
   "id": "1a35e7fd",
   "metadata": {},
   "outputs": [],
   "source": [
    "sdf=pd.read_csv(\"stackoverflow.csv\")"
   ]
  },
  {
   "cell_type": "code",
   "execution_count": 160,
   "id": "0318e4ad",
   "metadata": {},
   "outputs": [
    {
     "data": {
      "text/html": [
       "<div>\n",
       "<style scoped>\n",
       "    .dataframe tbody tr th:only-of-type {\n",
       "        vertical-align: middle;\n",
       "    }\n",
       "\n",
       "    .dataframe tbody tr th {\n",
       "        vertical-align: top;\n",
       "    }\n",
       "\n",
       "    .dataframe thead th {\n",
       "        text-align: right;\n",
       "    }\n",
       "</style>\n",
       "<table border=\"1\" class=\"dataframe\">\n",
       "  <thead>\n",
       "    <tr style=\"text-align: right;\">\n",
       "      <th></th>\n",
       "      <th>RespondentID</th>\n",
       "      <th>Country</th>\n",
       "      <th>Salary</th>\n",
       "      <th>YearsCodedJob</th>\n",
       "      <th>OpenSource</th>\n",
       "      <th>Hobby</th>\n",
       "      <th>CompanySizeNumber</th>\n",
       "      <th>Remote</th>\n",
       "      <th>CareerSatisfaction</th>\n",
       "      <th>Datascientist</th>\n",
       "      <th>...</th>\n",
       "      <th>DevOps</th>\n",
       "      <th>Embedded developer</th>\n",
       "      <th>Graphic designer</th>\n",
       "      <th>Graphics programming</th>\n",
       "      <th>Machine learning specialist</th>\n",
       "      <th>Mobile developer</th>\n",
       "      <th>Quality assurance engineer</th>\n",
       "      <th>Systems administrator</th>\n",
       "      <th>Web developer</th>\n",
       "      <th></th>\n",
       "    </tr>\n",
       "  </thead>\n",
       "  <tbody>\n",
       "    <tr>\n",
       "      <th>0</th>\n",
       "      <td>3</td>\n",
       "      <td>United Kingdom</td>\n",
       "      <td>113750.0</td>\n",
       "      <td>20</td>\n",
       "      <td>1</td>\n",
       "      <td>1</td>\n",
       "      <td>10000.0</td>\n",
       "      <td>Not remote</td>\n",
       "      <td>8</td>\n",
       "      <td>0</td>\n",
       "      <td>...</td>\n",
       "      <td>0</td>\n",
       "      <td>0</td>\n",
       "      <td>0</td>\n",
       "      <td>0</td>\n",
       "      <td>0</td>\n",
       "      <td>0</td>\n",
       "      <td>0</td>\n",
       "      <td>0</td>\n",
       "      <td>0</td>\n",
       "      <td>NaN</td>\n",
       "    </tr>\n",
       "    <tr>\n",
       "      <th>1</th>\n",
       "      <td>15</td>\n",
       "      <td>United Kingdom</td>\n",
       "      <td>100000.0</td>\n",
       "      <td>20</td>\n",
       "      <td>0</td>\n",
       "      <td>1</td>\n",
       "      <td>5000.0</td>\n",
       "      <td>Remote</td>\n",
       "      <td>8</td>\n",
       "      <td>0</td>\n",
       "      <td>...</td>\n",
       "      <td>0</td>\n",
       "      <td>1</td>\n",
       "      <td>0</td>\n",
       "      <td>0</td>\n",
       "      <td>0</td>\n",
       "      <td>0</td>\n",
       "      <td>0</td>\n",
       "      <td>0</td>\n",
       "      <td>0</td>\n",
       "      <td>NaN</td>\n",
       "    </tr>\n",
       "    <tr>\n",
       "      <th>2</th>\n",
       "      <td>18</td>\n",
       "      <td>United States</td>\n",
       "      <td>130000.0</td>\n",
       "      <td>20</td>\n",
       "      <td>1</td>\n",
       "      <td>1</td>\n",
       "      <td>1000.0</td>\n",
       "      <td>Remote</td>\n",
       "      <td>9</td>\n",
       "      <td>0</td>\n",
       "      <td>...</td>\n",
       "      <td>1</td>\n",
       "      <td>1</td>\n",
       "      <td>0</td>\n",
       "      <td>0</td>\n",
       "      <td>0</td>\n",
       "      <td>0</td>\n",
       "      <td>1</td>\n",
       "      <td>0</td>\n",
       "      <td>1</td>\n",
       "      <td>NaN</td>\n",
       "    </tr>\n",
       "    <tr>\n",
       "      <th>3</th>\n",
       "      <td>19</td>\n",
       "      <td>United States</td>\n",
       "      <td>82500.0</td>\n",
       "      <td>3</td>\n",
       "      <td>0</td>\n",
       "      <td>1</td>\n",
       "      <td>10000.0</td>\n",
       "      <td>Not remote</td>\n",
       "      <td>5</td>\n",
       "      <td>0</td>\n",
       "      <td>...</td>\n",
       "      <td>0</td>\n",
       "      <td>0</td>\n",
       "      <td>0</td>\n",
       "      <td>0</td>\n",
       "      <td>0</td>\n",
       "      <td>0</td>\n",
       "      <td>0</td>\n",
       "      <td>0</td>\n",
       "      <td>1</td>\n",
       "      <td>NaN</td>\n",
       "    </tr>\n",
       "    <tr>\n",
       "      <th>4</th>\n",
       "      <td>26</td>\n",
       "      <td>United States</td>\n",
       "      <td>175000.0</td>\n",
       "      <td>16</td>\n",
       "      <td>0</td>\n",
       "      <td>1</td>\n",
       "      <td>10000.0</td>\n",
       "      <td>Not remote</td>\n",
       "      <td>7</td>\n",
       "      <td>0</td>\n",
       "      <td>...</td>\n",
       "      <td>0</td>\n",
       "      <td>0</td>\n",
       "      <td>0</td>\n",
       "      <td>0</td>\n",
       "      <td>0</td>\n",
       "      <td>0</td>\n",
       "      <td>0</td>\n",
       "      <td>0</td>\n",
       "      <td>1</td>\n",
       "      <td>NaN</td>\n",
       "    </tr>\n",
       "  </tbody>\n",
       "</table>\n",
       "<p>5 rows × 23 columns</p>\n",
       "</div>"
      ],
      "text/plain": [
       "   RespondentID         Country    Salary  YearsCodedJob  OpenSource  Hobby  \\\n",
       "0             3  United Kingdom  113750.0             20           1      1   \n",
       "1            15  United Kingdom  100000.0             20           0      1   \n",
       "2            18   United States  130000.0             20           1      1   \n",
       "3            19   United States   82500.0              3           0      1   \n",
       "4            26   United States  175000.0             16           0      1   \n",
       "\n",
       "   CompanySizeNumber      Remote  CareerSatisfaction  Datascientist  ...  \\\n",
       "0            10000.0  Not remote                   8              0  ...   \n",
       "1             5000.0      Remote                   8              0  ...   \n",
       "2             1000.0      Remote                   9              0  ...   \n",
       "3            10000.0  Not remote                   5              0  ...   \n",
       "4            10000.0  Not remote                   7              0  ...   \n",
       "\n",
       "   DevOps  Embedded developer  Graphic designer  Graphics programming  \\\n",
       "0       0                   0                 0                     0   \n",
       "1       0                   1                 0                     0   \n",
       "2       1                   1                 0                     0   \n",
       "3       0                   0                 0                     0   \n",
       "4       0                   0                 0                     0   \n",
       "\n",
       "   Machine learning specialist  Mobile developer  Quality assurance engineer  \\\n",
       "0                            0                 0                           0   \n",
       "1                            0                 0                           0   \n",
       "2                            0                 0                           1   \n",
       "3                            0                 0                           0   \n",
       "4                            0                 0                           0   \n",
       "\n",
       "   Systems administrator  Web developer        \n",
       "0                      0              0   NaN  \n",
       "1                      0              0   NaN  \n",
       "2                      0              1   NaN  \n",
       "3                      0              1   NaN  \n",
       "4                      0              1   NaN  \n",
       "\n",
       "[5 rows x 23 columns]"
      ]
     },
     "execution_count": 160,
     "metadata": {},
     "output_type": "execute_result"
    }
   ],
   "source": [
    "sdf.head()"
   ]
  },
  {
   "cell_type": "markdown",
   "id": "df522bcf",
   "metadata": {},
   "source": [
    "**1. How many rows and columns are present?**"
   ]
  },
  {
   "cell_type": "code",
   "execution_count": 283,
   "id": "7e5ce039",
   "metadata": {},
   "outputs": [
    {
     "name": "stdout",
     "output_type": "stream",
     "text": [
      "No of rows and columns present is stackover flow data are (6991, 23)\n",
      "Where number of \u001b[1mrows is 6991 and columns is 23\n"
     ]
    }
   ],
   "source": [
    "rows_columns=sdf.shape\n",
    "#Assigning to a new variable as i want to access each value separately.\n",
    "\n",
    "print(f'No of rows and columns present is stackover flow data are {rows_columns}')\n",
    "\n",
    "print(f'Where number of \\033[1mrows is {sdf.shape[0]} and columns is {sdf.shape[1]}')"
   ]
  },
  {
   "cell_type": "markdown",
   "id": "42b41f08",
   "metadata": {},
   "source": [
    "**2. How many missing values are present?**"
   ]
  },
  {
   "cell_type": "code",
   "execution_count": 352,
   "id": "63d429a7",
   "metadata": {},
   "outputs": [
    {
     "name": "stdout",
     "output_type": "stream",
     "text": [
      "The no of records in stackoverflow dataframe that has missing values is\u001b[1m 31 \n"
     ]
    }
   ],
   "source": [
    "sdf.drop(columns=sdf.columns[-1],axis=1,inplace=True)\n",
    "#Removing the last unlabeled column as it has no data, when checked in excel.\n",
    "\n",
    "Missing_values=sdf.isna().sum().sum()\n",
    "#Using the method isna(ie is not available)and finding the sum of each columns. \n",
    "#Using another sum function to add all the column values.\n",
    "\n",
    "print(f\"The no of records in stackoverflow dataframe that has missing values is\\033[1m {Missing_values} \")"
   ]
  },
  {
   "cell_type": "markdown",
   "id": "40d75824",
   "metadata": {},
   "source": [
    "**3. How many unique countries are in the dataframe stackoverflow.**"
   ]
  },
  {
   "cell_type": "code",
   "execution_count": 246,
   "id": "6b48cb95",
   "metadata": {},
   "outputs": [
    {
     "name": "stdout",
     "output_type": "stream",
     "text": [
      "Details of all the countries and the number od records present in each United States     3486\n",
      "United Kingdom    1270\n",
      "Germany            950\n",
      "India              666\n",
      "Canada             619\n",
      "Name: Country, dtype: int64\n",
      "\u001b[1mTotal number of countries are 5\n"
     ]
    }
   ],
   "source": [
    "unique_countries_details=sdf['Country'].value_counts()\n",
    "#Getting the details and name of all the different countries and how many records of them are present\n",
    "\n",
    "print(f\"Details of all the countries and the number od records present in each {unique_countries_details}\")\n",
    "\n",
    "unique_countries_count=sdf['Country'].nunique()\n",
    "#Using nunique method to just get the count of all the unique countries present.\n",
    "\n",
    "print('\\033[1m' + f\"Total number of countries are {unique_countries_count}\")\n"
   ]
  },
  {
   "cell_type": "markdown",
   "id": "a7d303be",
   "metadata": {},
   "source": [
    "**4. There are ________ Indian Data Scientists present in the data.**"
   ]
  },
  {
   "cell_type": "code",
   "execution_count": 281,
   "id": "0f551755",
   "metadata": {},
   "outputs": [
    {
     "name": "stdout",
     "output_type": "stream",
     "text": [
      "Total number of records where Data scientists are from India are\u001b[1m 43\n"
     ]
    }
   ],
   "source": [
    "Indian_DS=sdf[(sdf[\"Country\"]=='India') & (sdf[\"Datascientist\"]>0)].shape[0]\n",
    "\n",
    "print(f\"Total number of records where Data scientists are from India are\\033[1m {Indian_DS}\")"
   ]
  },
  {
   "cell_type": "markdown",
   "id": "31dd6a55",
   "metadata": {},
   "source": [
    "**5. ______ respondents work remotely in this data**"
   ]
  },
  {
   "cell_type": "code",
   "execution_count": 279,
   "id": "daca91a4",
   "metadata": {},
   "outputs": [
    {
     "name": "stdout",
     "output_type": "stream",
     "text": [
      "Total number of records who work remotely\u001b[1m 718\n"
     ]
    }
   ],
   "source": [
    "Remote_workers=sdf[sdf['Remote']=='Remote'].shape[0]\n",
    "\n",
    "print(f\"Total number of records who work remotely\\033[1m {Remote_workers}\")"
   ]
  },
  {
   "cell_type": "markdown",
   "id": "10537cfd",
   "metadata": {},
   "source": [
    "**6. _______ is the count of Germans who have more than 10 years of coding experience.**"
   ]
  },
  {
   "cell_type": "code",
   "execution_count": 280,
   "id": "b26eb5a1",
   "metadata": {},
   "outputs": [
    {
     "name": "stdout",
     "output_type": "stream",
     "text": [
      "No of Germans who have coding experience for more than 10 years is\u001b[1m 181\n"
     ]
    }
   ],
   "source": [
    "Germans=sdf[(sdf['Country']=='Germany') & (sdf['YearsCodedJob']>10)]\n",
    "\n",
    "print(f\"No of Germans who have coding experience for more than 10 years is\\033[1m {Germans.shape[0]}\")\n"
   ]
  },
  {
   "cell_type": "markdown",
   "id": "af4aa980",
   "metadata": {},
   "source": [
    "**7. Which Country has maximum average Salary?**"
   ]
  },
  {
   "cell_type": "code",
   "execution_count": 275,
   "id": "a2a8ff14",
   "metadata": {},
   "outputs": [
    {
     "name": "stdout",
     "output_type": "stream",
     "text": [
      "The country which has the highest average salary \u001b[1m United States and salary of 98313.12765402869\n"
     ]
    }
   ],
   "source": [
    "Avg_Sal=sdf.groupby(\"Country\",as_index=False).agg({\"Salary\":'mean'}).sort_values(by=\"Country\",ascending=False).head(1)\n",
    "\n",
    "print(f\"The country which has the highest average salary \\033[1m {Avg_Sal.iloc[0,0]} and salary of {Avg_Sal.iloc[0,1]}\")"
   ]
  },
  {
   "cell_type": "markdown",
   "id": "2c5c4053",
   "metadata": {},
   "source": [
    "**8. Country ________ has least remote workers**"
   ]
  },
  {
   "cell_type": "code",
   "execution_count": 278,
   "id": "5c16f1f5",
   "metadata": {},
   "outputs": [
    {
     "name": "stdout",
     "output_type": "stream",
     "text": [
      "The country with least no. of remote workers are\u001b[1m Canada\n"
     ]
    }
   ],
   "source": [
    "Remote_workers=sdf[sdf.groupby(\"Country\")['Remote'].apply(lambda x : x== \"Remote\")]\n",
    "\n",
    "least=Remote_workers.groupby(\"Country\",as_index=False)[\"Remote\"].value_counts()\n",
    "\n",
    "print(f\"The country with least no. of remote workers are\\033[1m {least.iloc[0,0]}\")"
   ]
  },
  {
   "cell_type": "markdown",
   "id": "dfeb9872",
   "metadata": {},
   "source": [
    "**9. ____% is the percentage of Mobile Developers in the data**"
   ]
  },
  {
   "cell_type": "code",
   "execution_count": 350,
   "id": "9d597be0",
   "metadata": {},
   "outputs": [
    {
     "name": "stdout",
     "output_type": "stream",
     "text": [
      "19.4% is the percentage of Mobile Developers in the data\n"
     ]
    }
   ],
   "source": [
    "#This method considers employees who work in more than 1 job. Ie there are few employees who work both in mob dev and web dev\n",
    "Percentage=(sdf['Mobile developer'].sum() / sdf['Mobile developer'].shape[0]) * 100\n",
    "\n",
    "Round_Percentage=Percentage.round(2)\n",
    "#Rounding off\n",
    "\n",
    "print(f\"{Round_Percentage}% is the percentage of Mobile Developers in the data\")\n"
   ]
  },
  {
   "cell_type": "code",
   "execution_count": 351,
   "id": "0045dc6d",
   "metadata": {},
   "outputs": [
    {
     "name": "stdout",
     "output_type": "stream",
     "text": [
      "9.81% is the percentage of Mobile Developers in the data\n"
     ]
    }
   ],
   "source": [
    "#This method doesn't consider a person working in two different fields.\n",
    "\n",
    "Total_employees=sdf.iloc[:,9:22].sum().sum()\n",
    "#Getting the total number of employees in all different fields.That is why double sum function.\n",
    "\n",
    "Percentage=(sdf['Mobile developer'].sum() / Total_employees) * 100\n",
    "#calculating the percentage of mobile dev among all\n",
    "\n",
    "Round_Percentage=Percentage.round(2)\n",
    "#Rounding off\n",
    "\n",
    "print(f\"{Round_Percentage}% is the percentage of Mobile Developers in the data\")"
   ]
  },
  {
   "cell_type": "markdown",
   "id": "c56758bd",
   "metadata": {},
   "source": [
    "**10. ____ is the number of profiles who are Mobile Developers and Web Developers and who work remotely?**"
   ]
  },
  {
   "cell_type": "code",
   "execution_count": 338,
   "id": "1d6d3269",
   "metadata": {},
   "outputs": [
    {
     "name": "stdout",
     "output_type": "stream",
     "text": [
      "115 is the number of profiles who are Mobile Developers and Web Developers and who work remotely\n"
     ]
    }
   ],
   "source": [
    "Mob_Dev=sdf[(sdf[\"Mobile developer\"]==1) & (sdf[\"Web developer\"]==1) & (sdf[\"Remote\"]=='Remote')].shape[0]\n",
    "print(f\"{Mob_Dev} is the number of profiles who are Mobile Developers and Web Developers and who work remotely\")"
   ]
  },
  {
   "cell_type": "code",
   "execution_count": 349,
   "id": "84915ceb",
   "metadata": {},
   "outputs": [],
   "source": [
    "#sdf1=sdf.copy()\n",
    "#Mob_Dev=sdf1[[\"Mobile developer\", \"Web developer\"]]\n",
    "#Mob_Dev=sdf1[(sdf1[\"Mobile developer\"]==1) & (sdf1[\"Web developer\"]==1)]\n",
    "#Mob_Dev\n",
    "#sdf1"
   ]
  },
  {
   "cell_type": "code",
   "execution_count": null,
   "id": "d5d7cc9e",
   "metadata": {},
   "outputs": [],
   "source": []
  }
 ],
 "metadata": {
  "kernelspec": {
   "display_name": "Python 3 (ipykernel)",
   "language": "python",
   "name": "python3"
  },
  "language_info": {
   "codemirror_mode": {
    "name": "ipython",
    "version": 3
   },
   "file_extension": ".py",
   "mimetype": "text/x-python",
   "name": "python",
   "nbconvert_exporter": "python",
   "pygments_lexer": "ipython3",
   "version": "3.9.12"
  }
 },
 "nbformat": 4,
 "nbformat_minor": 5
}
