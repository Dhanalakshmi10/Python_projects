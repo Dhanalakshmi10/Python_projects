{
 "cells": [
  {
   "cell_type": "markdown",
   "id": "dfb76cee",
   "metadata": {},
   "source": [
    "# Dhanalakshmi  Python Graded Assignment"
   ]
  },
  {
   "cell_type": "markdown",
   "id": "1829dd01",
   "metadata": {},
   "source": [
    "1. Write a Python function histogram(ls) that takes as input a list of integers with repetitions and returns a list of pairs as follows:\n",
    "- For each number n that appears in ls, there should be exactly one pair (n, r) in the list returned by the function, where r is is the number of repetitions of n in ls.\n",
    "- The final list should be sorted in ascending order by r, the number of repetitions. For numbers that occur with the same number of repetitions, arrange the pairs in ascending order of the value of the number."
   ]
  },
  {
   "cell_type": "code",
   "execution_count": 288,
   "id": "0bbbd8a6",
   "metadata": {},
   "outputs": [
    {
     "name": "stdout",
     "output_type": "stream",
     "text": [
      "Enter a list of integers separated by commas: 13,12,11,13,14,13,7,7,13,14,12\n",
      "Pairs of (n, r) where r is is the number of repetitions of n in input list [(13, 4), (12, 2), (11, 1), (14, 2), (7, 2)] \n",
      "\n",
      "Sorted output below\n"
     ]
    },
    {
     "data": {
      "text/plain": [
       "[(11, 1), (7, 2), (12, 2), (14, 2), (13, 4)]"
      ]
     },
     "execution_count": 288,
     "metadata": {},
     "output_type": "execute_result"
    }
   ],
   "source": [
    "ls= list(map(int, input(\"Enter a list of integers separated by commas: \").split(\",\")))\n",
    "#Getting user input and converting into a int and then a list\n",
    "\n",
    "def histogram(ls):\n",
    "    Pairs=[] #empty list initialized to contain all the tuple pair values.\n",
    "    tuple1=() #empty tuple initialized to form a pair of number and its occurance\n",
    "    \n",
    "    for i in ls: #Itirating through each number in the list\n",
    "        \n",
    "        tupple1=(i,ls.count(i)) # Creating pairs with i being the number and occurance count of that number\n",
    "        \n",
    "        Pairs.append(tupple1) #Forming a list by appending each pair into a new list. \n",
    "    \n",
    "    FinalList=[]\n",
    "    \n",
    "    #Removing the duplicate values in the list by checking if the element is already present.\n",
    "    [FinalList.append(x) for x in Pairs if x not in FinalList] \n",
    "    print(f'Pairs of (n, r) where r is is the number of repetitions of n in input list {FinalList} \\n')\n",
    "    \n",
    "    \n",
    "    #Sorting the final list by it's repeating value, and the it's number in ascending order.\n",
    "    \n",
    "    print(\"Sorted output below\")\n",
    "    FinalList.sort(key=lambda pair: (pair[1], pair[0]))\n",
    "    #sorting the list 1st by the number of occurrences (r) which is pair[1], and next use the number (n) which is pair[0]\n",
    "    return FinalList \n",
    "histogram(ls)\n",
    "            \n",
    "        "
   ]
  },
  {
   "cell_type": "markdown",
   "id": "d7745311",
   "metadata": {},
   "source": [
    "2. Define a Python function alternating(ls) that returns True if the values in the input list alternately go up and down (in a strict manner)."
   ]
  },
  {
   "cell_type": "code",
   "execution_count": 289,
   "id": "f422e7dd",
   "metadata": {},
   "outputs": [
    {
     "name": "stdout",
     "output_type": "stream",
     "text": [
      "Enter a list of integers separated by commas: 1,3,2,3,1,5\n"
     ]
    },
    {
     "data": {
      "text/plain": [
       "True"
      ]
     },
     "execution_count": 289,
     "metadata": {},
     "output_type": "execute_result"
    }
   ],
   "source": [
    "ls= list(map(int, input(\"Enter a list of integers separated by commas: \").split(\",\")))\n",
    "#Getting user input and converting into a int and then a list\n",
    "\n",
    "def alternating(ls):\n",
    "    if len(ls) < 3: #as atleast 3 values is required to check the altenating up and down\n",
    "        return False\n",
    "    even=ls[::2] #using this to split all even indexed values into one list\n",
    "    odd=ls[1::2] #split all odd indexed values from input to another list\n",
    "\n",
    "    for i in range(len(odd)): #looping through each odd index of the list \n",
    "        try:\n",
    "            even[i+1] #when index is out of range for the last digit, use try for the last comparison\n",
    "        except:\n",
    "            if odd[i]<= even[i] or odd[i]<=0: \n",
    "                #comapare the last value with zero as comapring digit should always be higher than zero\n",
    "                return False\n",
    "        else:\n",
    "            if odd[i] <= even[i] or odd[i] <= even[i+1]:\n",
    "                #compare each odd index to see if the value before and after it is lessr than that\n",
    "                return False\n",
    "    return True \n",
    "#if none of the condition above works that means the given list follows the input list alternately go up and down (in a strict manner).\n",
    "\n",
    "alternating(ls)       #Calling the function    "
   ]
  },
  {
   "cell_type": "code",
   "execution_count": 290,
   "id": "71d6fc15",
   "metadata": {},
   "outputs": [
    {
     "name": "stdout",
     "output_type": "stream",
     "text": [
      "Enter a list of integers separated by commas: 3,2,2,1,5\n"
     ]
    },
    {
     "data": {
      "text/plain": [
       "False"
      ]
     },
     "execution_count": 290,
     "metadata": {},
     "output_type": "execute_result"
    }
   ],
   "source": [
    "#Q2. Another solution to solve alternating question.\n",
    "\n",
    "ls= list(map(int, input(\"Enter a list of integers separated by commas: \").split(\",\")))\n",
    "#Getting user input and converting into a int and then a list\n",
    "\n",
    "def alternating(ls):\n",
    "    if len(ls) < 3: #as atleast 3 values is required to check the altenating up and down \n",
    "        return False\n",
    "    value_is_up = True #setting the value initailly as True\n",
    "    for i in range(1, len(ls)):\n",
    "        if ls[i] == ls[i-1]: #Comparing if the value is equal to the previous value. \n",
    "            return False\n",
    "        elif ls[i] > ls[i-1]: #comparing is the value is greater than the previous value, if true then do the next step.\n",
    "            if not value_is_up: # If it is not true, then it returns false\n",
    "                return False\n",
    "            value_is_up = False #assign the variable as False\n",
    "        elif ls[i] < ls[i-1]: #compare the the next value is lesser than the previous one\n",
    "            if value_is_up: \n",
    "                return False\n",
    "            value_is_up = True #if any of these conditions pass, then it is not alternating.\n",
    "    return True\n",
    "alternating(ls)"
   ]
  },
  {
   "cell_type": "markdown",
   "id": "d15c6b3f",
   "metadata": {},
   "source": [
    "3. Write a Python program that does the following:\n",
    "- takes a list as input - list_input\n",
    "- takes another list as input - list_pos\n",
    "- creates a Pandas Series from list_input\n",
    "- prints all values of list_input which are present at the positions listed out by list_pos"
   ]
  },
  {
   "cell_type": "code",
   "execution_count": 291,
   "id": "973c0a02",
   "metadata": {},
   "outputs": [
    {
     "name": "stdout",
     "output_type": "stream",
     "text": [
      "enter values separated by space: a b c d e f g h i j k l m n o p q r s t u v w x y z\n",
      "enter integers separated by space 0 4 8 14 20\n",
      "0     a\n",
      "4     e\n",
      "8     i\n",
      "14    o\n",
      "20    u\n",
      "dtype: object\n"
     ]
    }
   ],
   "source": [
    "import pandas as pd\n",
    "\n",
    "list_input=input(\"enter values separated by space: \").split(\" \")\n",
    "#Taking user input and splitting it.\n",
    "\n",
    "#Used map function to convert each input into integers\n",
    "list_pos = list(map(int, input(\"enter integers separated by space \").split(\" \")))\n",
    "\n",
    "output_list=[] #a list to hold only the values which are only related to that position \n",
    "\n",
    "for i in list_pos:\n",
    "    output_list.append(list_input[i])\n",
    "    \n",
    "Finaloutput=pd.Series(output_list,index=list_pos) #converting the list to a series which holds position values as index.\n",
    "print(Finaloutput)\n"
   ]
  },
  {
   "cell_type": "markdown",
   "id": "826186a0",
   "metadata": {},
   "source": []
  },
  {
   "cell_type": "code",
   "execution_count": null,
   "id": "46e3455f",
   "metadata": {},
   "outputs": [],
   "source": []
  }
 ],
 "metadata": {
  "kernelspec": {
   "display_name": "Python 3 (ipykernel)",
   "language": "python",
   "name": "python3"
  },
  "language_info": {
   "codemirror_mode": {
    "name": "ipython",
    "version": 3
   },
   "file_extension": ".py",
   "mimetype": "text/x-python",
   "name": "python",
   "nbconvert_exporter": "python",
   "pygments_lexer": "ipython3",
   "version": "3.9.12"
  }
 },
 "nbformat": 4,
 "nbformat_minor": 5
}
